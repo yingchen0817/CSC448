{
 "cells": [
  {
   "cell_type": "code",
   "execution_count": null,
   "id": "c547725d",
   "metadata": {},
   "outputs": [],
   "source": [
    "from IPython.core.display import HTML\n",
    "HTML('<a href=\"https://colab.research.google.com/github/yingchen0817/CSC448/blob/main/Assignment3.ipynb#scrollTo=5f34494a\"><img src=\"https://colab.research.google.com/assets/colab-badge.svg\" alt=\"Open In Colab\"/></a>')"
   ]
  },
  {
   "cell_type": "code",
   "execution_count": 10,
   "id": "71f82e8c",
   "metadata": {},
   "outputs": [],
   "source": [
    "# Imports and pip installations (if needed)\n",
    "import numpy as np\n",
    "import pandas as pd\n",
    "from sklearn import datasets\n",
    "from sklearn.model_selection import train_test_split\n",
    "from sklearn.linear_model import LogisticRegression\n",
    "from sklearn.svm import SVC\n",
    "from sklearn.neural_network import MLPClassifier\n",
    "from sklearn.neighbors import KNeighborsClassifier\n"
   ]
  },
  {
   "cell_type": "markdown",
   "id": "c69a4d57",
   "metadata": {},
   "source": [
    "# Part 1: Load the dataset"
   ]
  },
  {
   "cell_type": "code",
   "execution_count": 11,
   "id": "ae2f3cdb",
   "metadata": {},
   "outputs": [
    {
     "name": "stdout",
     "output_type": "stream",
     "text": [
      "First 15 rows of data:\n"
     ]
    },
    {
     "data": {
      "text/html": [
       "<div>\n",
       "<style scoped>\n",
       "    .dataframe tbody tr th:only-of-type {\n",
       "        vertical-align: middle;\n",
       "    }\n",
       "\n",
       "    .dataframe tbody tr th {\n",
       "        vertical-align: top;\n",
       "    }\n",
       "\n",
       "    .dataframe thead th {\n",
       "        text-align: right;\n",
       "    }\n",
       "</style>\n",
       "<table border=\"1\" class=\"dataframe\">\n",
       "  <thead>\n",
       "    <tr style=\"text-align: right;\">\n",
       "      <th></th>\n",
       "      <th>sepal length (cm)</th>\n",
       "      <th>sepal width (cm)</th>\n",
       "      <th>petal length (cm)</th>\n",
       "      <th>petal width (cm)</th>\n",
       "      <th>Species</th>\n",
       "    </tr>\n",
       "  </thead>\n",
       "  <tbody>\n",
       "    <tr>\n",
       "      <th>0</th>\n",
       "      <td>5.1</td>\n",
       "      <td>3.5</td>\n",
       "      <td>1.4</td>\n",
       "      <td>0.2</td>\n",
       "      <td>0.0</td>\n",
       "    </tr>\n",
       "    <tr>\n",
       "      <th>1</th>\n",
       "      <td>4.9</td>\n",
       "      <td>3.0</td>\n",
       "      <td>1.4</td>\n",
       "      <td>0.2</td>\n",
       "      <td>0.0</td>\n",
       "    </tr>\n",
       "    <tr>\n",
       "      <th>2</th>\n",
       "      <td>4.7</td>\n",
       "      <td>3.2</td>\n",
       "      <td>1.3</td>\n",
       "      <td>0.2</td>\n",
       "      <td>0.0</td>\n",
       "    </tr>\n",
       "    <tr>\n",
       "      <th>3</th>\n",
       "      <td>4.6</td>\n",
       "      <td>3.1</td>\n",
       "      <td>1.5</td>\n",
       "      <td>0.2</td>\n",
       "      <td>0.0</td>\n",
       "    </tr>\n",
       "    <tr>\n",
       "      <th>4</th>\n",
       "      <td>5.0</td>\n",
       "      <td>3.6</td>\n",
       "      <td>1.4</td>\n",
       "      <td>0.2</td>\n",
       "      <td>0.0</td>\n",
       "    </tr>\n",
       "    <tr>\n",
       "      <th>5</th>\n",
       "      <td>5.4</td>\n",
       "      <td>3.9</td>\n",
       "      <td>1.7</td>\n",
       "      <td>0.4</td>\n",
       "      <td>0.0</td>\n",
       "    </tr>\n",
       "    <tr>\n",
       "      <th>6</th>\n",
       "      <td>4.6</td>\n",
       "      <td>3.4</td>\n",
       "      <td>1.4</td>\n",
       "      <td>0.3</td>\n",
       "      <td>0.0</td>\n",
       "    </tr>\n",
       "    <tr>\n",
       "      <th>7</th>\n",
       "      <td>5.0</td>\n",
       "      <td>3.4</td>\n",
       "      <td>1.5</td>\n",
       "      <td>0.2</td>\n",
       "      <td>0.0</td>\n",
       "    </tr>\n",
       "    <tr>\n",
       "      <th>8</th>\n",
       "      <td>4.4</td>\n",
       "      <td>2.9</td>\n",
       "      <td>1.4</td>\n",
       "      <td>0.2</td>\n",
       "      <td>0.0</td>\n",
       "    </tr>\n",
       "    <tr>\n",
       "      <th>9</th>\n",
       "      <td>4.9</td>\n",
       "      <td>3.1</td>\n",
       "      <td>1.5</td>\n",
       "      <td>0.1</td>\n",
       "      <td>0.0</td>\n",
       "    </tr>\n",
       "    <tr>\n",
       "      <th>10</th>\n",
       "      <td>5.4</td>\n",
       "      <td>3.7</td>\n",
       "      <td>1.5</td>\n",
       "      <td>0.2</td>\n",
       "      <td>0.0</td>\n",
       "    </tr>\n",
       "    <tr>\n",
       "      <th>11</th>\n",
       "      <td>4.8</td>\n",
       "      <td>3.4</td>\n",
       "      <td>1.6</td>\n",
       "      <td>0.2</td>\n",
       "      <td>0.0</td>\n",
       "    </tr>\n",
       "    <tr>\n",
       "      <th>12</th>\n",
       "      <td>4.8</td>\n",
       "      <td>3.0</td>\n",
       "      <td>1.4</td>\n",
       "      <td>0.1</td>\n",
       "      <td>0.0</td>\n",
       "    </tr>\n",
       "    <tr>\n",
       "      <th>13</th>\n",
       "      <td>4.3</td>\n",
       "      <td>3.0</td>\n",
       "      <td>1.1</td>\n",
       "      <td>0.1</td>\n",
       "      <td>0.0</td>\n",
       "    </tr>\n",
       "    <tr>\n",
       "      <th>14</th>\n",
       "      <td>5.8</td>\n",
       "      <td>4.0</td>\n",
       "      <td>1.2</td>\n",
       "      <td>0.2</td>\n",
       "      <td>0.0</td>\n",
       "    </tr>\n",
       "  </tbody>\n",
       "</table>\n",
       "</div>"
      ],
      "text/plain": [
       "    sepal length (cm)  sepal width (cm)  petal length (cm)  petal width (cm)  \\\n",
       "0                 5.1               3.5                1.4               0.2   \n",
       "1                 4.9               3.0                1.4               0.2   \n",
       "2                 4.7               3.2                1.3               0.2   \n",
       "3                 4.6               3.1                1.5               0.2   \n",
       "4                 5.0               3.6                1.4               0.2   \n",
       "5                 5.4               3.9                1.7               0.4   \n",
       "6                 4.6               3.4                1.4               0.3   \n",
       "7                 5.0               3.4                1.5               0.2   \n",
       "8                 4.4               2.9                1.4               0.2   \n",
       "9                 4.9               3.1                1.5               0.1   \n",
       "10                5.4               3.7                1.5               0.2   \n",
       "11                4.8               3.4                1.6               0.2   \n",
       "12                4.8               3.0                1.4               0.1   \n",
       "13                4.3               3.0                1.1               0.1   \n",
       "14                5.8               4.0                1.2               0.2   \n",
       "\n",
       "    Species  \n",
       "0       0.0  \n",
       "1       0.0  \n",
       "2       0.0  \n",
       "3       0.0  \n",
       "4       0.0  \n",
       "5       0.0  \n",
       "6       0.0  \n",
       "7       0.0  \n",
       "8       0.0  \n",
       "9       0.0  \n",
       "10      0.0  \n",
       "11      0.0  \n",
       "12      0.0  \n",
       "13      0.0  \n",
       "14      0.0  "
      ]
     },
     "execution_count": 11,
     "metadata": {},
     "output_type": "execute_result"
    }
   ],
   "source": [
    "# Load the dataset (load remotely, not locally)\n",
    "iris = datasets.load_iris()\n",
    "X = iris.data #features (X) and label (y)\n",
    "y = iris.target # 0 = Iris-Setosa, 1 = Iris-Versicolor, 2 = Iris-Virginica\n",
    "z = iris.target_names\n",
    "\n",
    "# Output the first 15 rows of the data\n",
    "print('First 15 rows of data:')\n",
    "df = pd.DataFrame(data= np.c_[X, y], columns= iris['feature_names'] + ['Species'])\n",
    "df.head(15)"
   ]
  },
  {
   "cell_type": "code",
   "execution_count": 13,
   "id": "4a8392a2",
   "metadata": {},
   "outputs": [
    {
     "name": "stdout",
     "output_type": "stream",
     "text": [
      ".. _iris_dataset:\n",
      "\n",
      "Iris plants dataset\n",
      "--------------------\n",
      "\n",
      "**Data Set Characteristics:**\n",
      "\n",
      "    :Number of Instances: 150 (50 in each of three classes)\n",
      "    :Number of Attributes: 4 numeric, predictive attributes and the class\n",
      "    :Attribute Information:\n",
      "        - sepal length in cm\n",
      "        - sepal width in cm\n",
      "        - petal length in cm\n",
      "        - petal width in cm\n",
      "        - class:\n",
      "                - Iris-Setosa\n",
      "                - Iris-Versicolour\n",
      "                - Iris-Virginica\n",
      "                \n",
      "    :Summary Statistics:\n",
      "\n",
      "    ============== ==== ==== ======= ===== ====================\n",
      "                    Min  Max   Mean    SD   Class Correlation\n",
      "    ============== ==== ==== ======= ===== ====================\n",
      "    sepal length:   4.3  7.9   5.84   0.83    0.7826\n",
      "    sepal width:    2.0  4.4   3.05   0.43   -0.4194\n",
      "    petal length:   1.0  6.9   3.76   1.76    0.9490  (high!)\n",
      "    petal width:    0.1  2.5   1.20   0.76    0.9565  (high!)\n",
      "    ============== ==== ==== ======= ===== ====================\n",
      "\n",
      "    :Missing Attribute Values: None\n",
      "    :Class Distribution: 33.3% for each of 3 classes.\n",
      "    :Creator: R.A. Fisher\n",
      "    :Donor: Michael Marshall (MARSHALL%PLU@io.arc.nasa.gov)\n",
      "    :Date: July, 1988\n",
      "\n",
      "The famous Iris database, first used by Sir R.A. Fisher. The dataset is taken\n",
      "from Fisher's paper. Note that it's the same as in R, but not as in the UCI\n",
      "Machine Learning Repository, which has two wrong data points.\n",
      "\n",
      "This is perhaps the best known database to be found in the\n",
      "pattern recognition literature.  Fisher's paper is a classic in the field and\n",
      "is referenced frequently to this day.  (See Duda & Hart, for example.)  The\n",
      "data set contains 3 classes of 50 instances each, where each class refers to a\n",
      "type of iris plant.  One class is linearly separable from the other 2; the\n",
      "latter are NOT linearly separable from each other.\n",
      "\n",
      ".. topic:: References\n",
      "\n",
      "   - Fisher, R.A. \"The use of multiple measurements in taxonomic problems\"\n",
      "     Annual Eugenics, 7, Part II, 179-188 (1936); also in \"Contributions to\n",
      "     Mathematical Statistics\" (John Wiley, NY, 1950).\n",
      "   - Duda, R.O., & Hart, P.E. (1973) Pattern Classification and Scene Analysis.\n",
      "     (Q327.D83) John Wiley & Sons.  ISBN 0-471-22361-1.  See page 218.\n",
      "   - Dasarathy, B.V. (1980) \"Nosing Around the Neighborhood: A New System\n",
      "     Structure and Classification Rule for Recognition in Partially Exposed\n",
      "     Environments\".  IEEE Transactions on Pattern Analysis and Machine\n",
      "     Intelligence, Vol. PAMI-2, No. 1, 67-71.\n",
      "   - Gates, G.W. (1972) \"The Reduced Nearest Neighbor Rule\".  IEEE Transactions\n",
      "     on Information Theory, May 1972, 431-433.\n",
      "   - See also: 1988 MLC Proceedings, 54-64.  Cheeseman et al\"s AUTOCLASS II\n",
      "     conceptual clustering system finds 3 classes in the data.\n",
      "   - Many, many more ...\n"
     ]
    }
   ],
   "source": [
    "# Display a summary of the table information \n",
    "print(iris['DESCR'])"
   ]
  },
  {
   "cell_type": "markdown",
   "id": "5fbafad6",
   "metadata": {},
   "source": [
    "# About the dataset\n",
    "we have four features of Iris here: sepal length, sepal width, petal length, petal width, all of them are in length cm. there are also three classes of Iris: Iris-Setosa, Iris-Versicolour, Iris-Virginica, each of them has 50 samples. The feature X = iris.data and label y = iris.target. Also, the number 0 - 2 are represent each class of Iris: 0 = Iris-Setosa, 1 = Iris-Versicolor, 2 = Iris-Virginica."
   ]
  },
  {
   "cell_type": "markdown",
   "id": "12c35bdb",
   "metadata": {},
   "source": [
    "# Part 2: Split the dataset into train and test"
   ]
  },
  {
   "cell_type": "code",
   "execution_count": 14,
   "id": "610b231a",
   "metadata": {},
   "outputs": [],
   "source": [
    "\n",
    "# Take the dataset and split it into our features (X) and label (y)\n",
    "\n",
    "# Use sklearn to split the features and labels into a training/test set. (90% train, 10% test)\n",
    "X_train, X_test, y_train, y_test = train_test_split(X, y, test_size = 0.1, shuffle = True, random_state = 58)"
   ]
  },
  {
   "cell_type": "markdown",
   "id": "e18db073",
   "metadata": {},
   "source": [
    "# Part 3: Logistic Regression"
   ]
  },
  {
   "cell_type": "code",
   "execution_count": 16,
   "id": "0111a3d9",
   "metadata": {},
   "outputs": [
    {
     "name": "stdout",
     "output_type": "stream",
     "text": [
      "Probabilites of each classes: [[9.75936676e-01 2.40632779e-02 4.65204028e-08]]\n",
      "Score of the Logistic regression model: 0.8666666666666667\n",
      "Coefficents: [[-0.43350518  0.86515393 -2.42423863 -1.04605905]\n",
      " [ 0.55916304 -0.49529991 -0.16636945 -1.01748888]\n",
      " [-0.12565786 -0.36985402  2.59060808  2.06354793]]\n",
      "Intercept: [  9.83933753   2.41737979 -12.25671731]\n"
     ]
    }
   ],
   "source": [
    "# i. Use sklearn to train a LogisticRegression model on the training set\n",
    "logistic_reg = LogisticRegression(max_iter=1000,random_state=42).fit(X_train, y_train)\n",
    "# ii. For a sample datapoint, predict the probabilities for each possible class\n",
    "sample = np.array([[5.4, 3.7, 1.5, 0.2]])\n",
    "print(f'Probabilites of each classes: {logistic_reg.predict_proba(sample)}')\n",
    "# iii. Report on the score for Logistic regression model, what does the score measure?\n",
    "score = logistic_reg.score(X_test, y_test)\n",
    "print(f'Score of the Logistic regression model: {score}')\n",
    "# iv. Extract the coefficents and intercepts for the boundary line(s)\n",
    "print(f'Coefficents: {logistic_reg.coef_}')\n",
    "print(f'Intercept: {logistic_reg.intercept_}')"
   ]
  },
  {
   "cell_type": "raw",
   "id": "d4ee0adc",
   "metadata": {},
   "source": [
    "The above is the probbbilites of each class, class 0 is 97.5%, class 1 is 2.4%, class 2 is 0.0000046%. \n",
    "\n",
    "The Score of the Logistic regression model is 86.67% which return the mean accuracy on the features_test and label_test."
   ]
  },
  {
   "cell_type": "markdown",
   "id": "764abebf",
   "metadata": {},
   "source": [
    "# Part 4: Support Vector Machine"
   ]
  },
  {
   "cell_type": "code",
   "execution_count": 17,
   "id": "9c627b5f",
   "metadata": {},
   "outputs": [
    {
     "name": "stdout",
     "output_type": "stream",
     "text": [
      "Probabilites of classes: [[0.97080659 0.01939969 0.00979372]]\n",
      "Score of the Support Vector Classifier: 1.0\n"
     ]
    }
   ],
   "source": [
    "# i. Use sklearn to train a Support Vector Classifier on the training set\n",
    "svc = SVC(C = 1.0, probability = True).fit(X_train, y_train)\n",
    "# ii. For a sample datapoint, predict the probabilities for each possible class\n",
    "print(f'Probabilites of classes: {svc.predict_proba(sample)}')\n",
    "# iii. Report on the score for the SVM, what does the score measure?\n",
    "score = svc.score(X_test, y_test)\n",
    "print(f'Score of the Support Vector Classifier: {score}')"
   ]
  },
  {
   "cell_type": "raw",
   "id": "711b5294",
   "metadata": {},
   "source": [
    "The result is the probabilites of the datapoint in each classes: class 0 is 97%, class 1 is 1.98% and class 2 is 1.01%.\n",
    "\n",
    "The Score of the Support Vector Classifier returns the mean accuracy on the features_test and label_test and 1.0 means 100% chance of classifying correctly."
   ]
  },
  {
   "cell_type": "markdown",
   "id": "32d62f48",
   "metadata": {},
   "source": [
    "# Part 5: Neural Network"
   ]
  },
  {
   "cell_type": "code",
   "execution_count": 18,
   "id": "c056d1ca",
   "metadata": {},
   "outputs": [
    {
     "name": "stdout",
     "output_type": "stream",
     "text": [
      "Probabilites of each classes: [[9.99389045e-01 6.10954697e-04 6.84453272e-12]]\n",
      "Score of the Neural Network: 0.9333333333333333\n",
      "New probabilites of each classes: [[9.99580261e-01 4.19739134e-04 3.85682908e-15]]\n",
      "Score of different options for the Neural Network: 0.9333333333333333\n"
     ]
    }
   ],
   "source": [
    "# i. Use sklearn to train a Neural Network (MLP Classifier) on the training set\n",
    "MLP = MLPClassifier(max_iter=600,random_state=0).fit(X_train, y_train)\n",
    "# ii. For a sample datapoint, predict the probabilities for each possible class\n",
    "print(f'Probabilites of each classes: {MLP.predict_proba(sample)}')\n",
    "# iii. Report on the score for the Neural Network, what does the score measure?\n",
    "score = MLP.score(X_test, y_test)\n",
    "print(f'Score of the Neural Network: {score}')\n",
    "# iv: Experiment with different options for the neural network, report on your best configuration (the highest score I was able to achieve was 0.8666)\n",
    "MLP = MLPClassifier(max_iter=1000,random_state=42).fit(X_train, y_train)\n",
    "print(f'New probabilites of each classes: {MLP.predict_proba(sample)}')\n",
    "score = MLP.score(X_test, y_test)\n",
    "print(f'Score of different options for the Neural Network: {score}')"
   ]
  },
  {
   "cell_type": "raw",
   "id": "19a1021a",
   "metadata": {},
   "source": [
    "there are two results of the probability of sample datapoints for each classes. \n",
    "\n",
    "The first result: class 0 is 99%, class 1 is 0.061% and class 2 is 0.00000000068%.\n",
    "The score of the Neural Network is 0.9333333333333333 means 93.33% chance of classyfing correctly which return the mean accuracy on the features_test and label_test. \n",
    "\n",
    "\n",
    "The second result: class 0 is 99%, class 1 is 0.041% and class 2 is 0.00000000038%.\n",
    "The score of the Neural Network is 0.9333333333333333 means 93.33% chance of classyfing correctly which return the mean accuracy on the features_test and label_test."
   ]
  },
  {
   "cell_type": "markdown",
   "id": "4caad8b4",
   "metadata": {},
   "source": [
    "# Part 6: K-Nearest Neighbors"
   ]
  },
  {
   "cell_type": "code",
   "execution_count": 19,
   "id": "055cfe3e",
   "metadata": {},
   "outputs": [
    {
     "name": "stdout",
     "output_type": "stream",
     "text": [
      "Probabilites of each classes: [[1. 0. 0.]]\n",
      "Score of the k-Neighbors Classifier: 0.8666666666666667\n"
     ]
    }
   ],
   "source": [
    "# i. Use sklearn to 'train' a k-Neighbors Classifier\n",
    "# Note: KNN is a nonparametric model and technically doesn't require training\n",
    "# fit will essentially load the data into the model see link below for more information\n",
    "# https://stats.stackexchange.com/questions/349842/why-do-we-need-to-fit-a-k-nearest-neighbors-classifier\n",
    "# ii. For a sample datapoint, predict the probabilities for each possible class\n",
    "KNN = KNeighborsClassifier().fit(X_train, y_train)\n",
    "print(f'Probabilites of each classes: {KNN.predict_proba(sample)}')\n",
    "# iii. Report on the score for kNN, what does the score measure?\n",
    "score = KNN.score(X_test, y_test)\n",
    "print(f'Score of the k-Neighbors Classifier: {score}')"
   ]
  },
  {
   "cell_type": "raw",
   "id": "036e5a3f",
   "metadata": {},
   "source": [
    "The above is the probbbilites of each class, class 0 is 100%, class 1 is 0%, class 2 is 0%. \n",
    "\n",
    "Score of the k-Neighbors Classifier is 0.8666666666666667 means 86.67% chance of classyfing correctly which returns the mean accuracy on the features_test and label_test.\n"
   ]
  },
  {
   "cell_type": "markdown",
   "id": "1d99afce",
   "metadata": {},
   "source": [
    "# Part 7: Conclusions and takeaways"
   ]
  },
  {
   "cell_type": "raw",
   "id": "f6a2f3a2",
   "metadata": {},
   "source": [
    "The above work show us all scores of different model is good, the accuracy is above 86%. Support Vector machine has the 100% accuracy. Neural Network has the 93% accuracy. most of the accury is higher enough to show us it is a good model. However, there is one thing surprise me that while creating model, if we change the parameters, the result will be different."
   ]
  },
  {
   "cell_type": "code",
   "execution_count": null,
   "id": "70ebfe3c",
   "metadata": {},
   "outputs": [],
   "source": []
  }
 ],
 "metadata": {
  "kernelspec": {
   "display_name": "Python 3 (ipykernel)",
   "language": "python",
   "name": "python3"
  },
  "language_info": {
   "codemirror_mode": {
    "name": "ipython",
    "version": 3
   },
   "file_extension": ".py",
   "mimetype": "text/x-python",
   "name": "python",
   "nbconvert_exporter": "python",
   "pygments_lexer": "ipython3",
   "version": "3.9.10"
  }
 },
 "nbformat": 4,
 "nbformat_minor": 5
}
