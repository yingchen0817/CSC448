{
 "cells": [
  {
   "cell_type": "code",
   "execution_count": null,
   "id": "2fd24df7",
   "metadata": {},
   "outputs": [],
   "source": [
    "from IPython.core.display import HTML\n",
    "HTML('<a href=\"https://colab.research.google.com/github/yingchen0817/CSC448/blob/main/Assignment3.ipynb#scrollTo=5f34494a\"><img src=\"https://colab.research.google.com/assets/colab-badge.svg\" alt=\"Open In Colab\"/></a>')"
   ]
  },
  {
   "cell_type": "code",
   "execution_count": null,
   "id": "723a7895",
   "metadata": {},
   "outputs": [],
   "source": [
    "# Imports and pip installations "
   ]
  },
  {
   "cell_type": "markdown",
   "id": "5648d425",
   "metadata": {},
   "source": [
    "# Part 1: Load the dataset"
   ]
  },
  {
   "cell_type": "code",
   "execution_count": null,
   "id": "207a0b10",
   "metadata": {},
   "outputs": [],
   "source": [
    "# Load the dataset (load remotely, not locally)\n",
    "\n",
    "# Output the first 15 rows of the data\n",
    "# Display a summary of the table information (number of datapoints, etc.)"
   ]
  },
  {
   "cell_type": "markdown",
   "id": "bd475070",
   "metadata": {},
   "source": [
    "# About the dataset\n",
    "\n",
    "Explain what the data is in your own words. What are your features and labels? What is the mapping of your labels to the actual classes?"
   ]
  },
  {
   "cell_type": "markdown",
   "id": "74873ef4",
   "metadata": {},
   "source": [
    "# Part 2: Split the dataset into train and test"
   ]
  },
  {
   "cell_type": "code",
   "execution_count": null,
   "id": "ba2e577e",
   "metadata": {},
   "outputs": [],
   "source": [
    "\n",
    "# Take the dataset and split it into our features (X) and label (y)\n",
    "\n",
    "# Use sklearn to split the features and labels into a training/test set. (90% train, 10% test)"
   ]
  },
  {
   "cell_type": "markdown",
   "id": "d3cbcc6c",
   "metadata": {},
   "source": [
    "# Part 3: Logistic Regression"
   ]
  },
  {
   "cell_type": "code",
   "execution_count": null,
   "id": "1ad4535d",
   "metadata": {},
   "outputs": [],
   "source": [
    "# i. Use sklearn to train a LogisticRegression model on the training set\n",
    "\n",
    "# ii. For a sample datapoint, predict the probabilities for each possible class\n",
    "\n",
    "# iii. Report on the score for Logistic regression model, what does the score measure?\n",
    "\n",
    "# iv. Extract the coefficents and intercepts for the boundary line(s)"
   ]
  },
  {
   "cell_type": "markdown",
   "id": "330deb09",
   "metadata": {},
   "source": [
    "# Part 4: Support Vector Machine"
   ]
  },
  {
   "cell_type": "code",
   "execution_count": null,
   "id": "49955dc9",
   "metadata": {},
   "outputs": [],
   "source": [
    "# i. Use sklearn to train a Support Vector Classifier on the training set\n",
    "\n",
    "# ii. For a sample datapoint, predict the probabilities for each possible class\n",
    "\n",
    "# iii. Report on the score for the SVM, what does the score measure?"
   ]
  },
  {
   "cell_type": "markdown",
   "id": "dd5b2a3c",
   "metadata": {},
   "source": [
    "# Part 5: Neural Network"
   ]
  },
  {
   "cell_type": "code",
   "execution_count": null,
   "id": "71988af3",
   "metadata": {},
   "outputs": [],
   "source": [
    "# i. Use sklearn to train a Neural Network (MLP Classifier) on the training set\n",
    "\n",
    "# ii. For a sample datapoint, predict the probabilities for each possible class\n",
    "\n",
    "# iii. Report on the score for the Neural Network, what does the score measure?\n",
    "\n",
    "# iv: Experiment with different options for the neural network, report on your best configuration (the highest score I was able to achieve was 0.8666)"
   ]
  },
  {
   "cell_type": "markdown",
   "id": "7363e6ec",
   "metadata": {},
   "source": [
    "# Part 6: K-Nearest Neighbors"
   ]
  },
  {
   "cell_type": "code",
   "execution_count": null,
   "id": "c2a11453",
   "metadata": {},
   "outputs": [],
   "source": [
    "# i. Use sklearn to 'train' a k-Neighbors Classifier\n",
    "# Note: KNN is a nonparametric model and technically doesn't require training\n",
    "# fit will essentially load the data into the model see link below for more information\n",
    "# https://stats.stackexchange.com/questions/349842/why-do-we-need-to-fit-a-k-nearest-neighbors-classifier\n",
    "\n",
    "# ii. For a sample datapoint, predict the probabilities for each possible class\n",
    "\n",
    "# iii. Report on the score for kNN, what does the score measure?"
   ]
  },
  {
   "cell_type": "markdown",
   "id": "638afcbb",
   "metadata": {},
   "source": [
    "# Part 7: Conclusions and takeaways"
   ]
  },
  {
   "cell_type": "markdown",
   "id": "368e7e54",
   "metadata": {},
   "source": [
    "In your own words describe the results of the notebook. Which model(s) performed the best on the dataset? Why do you think that is? Did anything surprise you about the exercise?"
   ]
  }
 ],
 "metadata": {
  "kernelspec": {
   "display_name": "Python 3 (ipykernel)",
   "language": "python",
   "name": "python3"
  },
  "language_info": {
   "codemirror_mode": {
    "name": "ipython",
    "version": 3
   },
   "file_extension": ".py",
   "mimetype": "text/x-python",
   "name": "python",
   "nbconvert_exporter": "python",
   "pygments_lexer": "ipython3",
   "version": "3.9.10"
  }
 },
 "nbformat": 4,
 "nbformat_minor": 5
}
