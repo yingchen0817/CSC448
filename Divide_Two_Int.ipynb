{
  "cells": [
    {
      "cell_type": "code",
      "execution_count": null,
      "id": "726cfe94",
      "metadata": {
        "id": "726cfe94"
      },
      "outputs": [],
      "source": [
        "# The graph represent as tree\n",
        "\n",
        "graph = {\n",
        "    'A' : ['B', 'C'],\n",
        "    'B' : ['D', 'E'],\n",
        "    'C' : ['F'],\n",
        "    'D' : [],\n",
        "    'E' : ['F'],\n",
        "    'F' : []\n",
        "}\n",
        "    "
      ]
    },
    {
      "cell_type": "code",
      "execution_count": null,
      "id": "64898e52",
      "metadata": {
        "id": "64898e52"
      },
      "outputs": [],
      "source": [
        "# visited to track the nodes\n",
        "visited = []\n",
        "\n",
        "# queue \n",
        "queue = []"
      ]
    },
    {
      "cell_type": "code",
      "execution_count": null,
      "id": "6f22b11c",
      "metadata": {
        "id": "6f22b11c"
      },
      "outputs": [],
      "source": [
        "# bfs algorithm\n",
        "def bfs(visited, graph, node):\n",
        "    \n",
        "# check and append the node\n",
        "  visited.append(node)\n",
        "  queue.append(node)\n",
        "\n",
        "# if node in queue, pop and print it.\n",
        "  while queue:\n",
        "    s = queue.pop(0) \n",
        "    print (s, end = \" \") \n",
        "\n",
        "    # Append nodes if neibor of node is unvisited \n",
        "    for n in graph[s]:\n",
        "      if n not in visited:\n",
        "        visited.append(n)\n",
        "        queue.append(n)"
      ]
    },
    {
      "cell_type": "code",
      "execution_count": null,
      "id": "9e8399c6",
      "metadata": {
        "id": "9e8399c6",
        "outputId": "eec6f8c2-3a27-4157-ed36-59b9df258d61"
      },
      "outputs": [
        {
          "name": "stdout",
          "output_type": "stream",
          "text": [
            "A B C D E F "
          ]
        }
      ],
      "source": [
        "# run the code\n",
        "bfs(visited, graph, 'A')"
      ]
    },
    {
      "cell_type": "code",
      "execution_count": null,
      "id": "637c52f5",
      "metadata": {
        "id": "637c52f5"
      },
      "outputs": [],
      "source": [
        ""
      ]
    }
  ],
  "metadata": {
    "kernelspec": {
      "display_name": "Python 3 (ipykernel)",
      "language": "python",
      "name": "python3"
    },
    "language_info": {
      "codemirror_mode": {
        "name": "ipython",
        "version": 3
      },
      "file_extension": ".py",
      "mimetype": "text/x-python",
      "name": "python",
      "nbconvert_exporter": "python",
      "pygments_lexer": "ipython3",
      "version": "3.9.10"
    },
    "colab": {
      "name": "Divide_Two_Int.ipynb",
      "provenance": []
    }
  },
  "nbformat": 4,
  "nbformat_minor": 5
}