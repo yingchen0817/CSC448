{
 "cells": [
  {
   "cell_type": "code",
   "execution_count": 12,
   "id": "ec64e86e",
   "metadata": {},
   "outputs": [
    {
     "data": {
      "text/html": [
       "<a href=\"https://colab.research.google.com/github/yingchen0817/CSC448/blob/main/Divide_Two_Int.ipynb\"><img src=\"https://colab.research.google.com/assets/colab-badge.svg\" alt=\"Open In Colab\"/></a>"
      ],
      "text/plain": [
       "<IPython.core.display.HTML object>"
      ]
     },
     "execution_count": 12,
     "metadata": {},
     "output_type": "execute_result"
    }
   ],
   "source": [
    "from IPython.core.display import HTML\n",
    "HTML('<a href=\"https://colab.research.google.com/github/yingchen0817/CSC448/blob/main/Divide_Two_Int.ipynb\"><img src=\"https://colab.research.google.com/assets/colab-badge.svg\" alt=\"Open In Colab\"/></a>')"
   ]
  },
  {
   "cell_type": "code",
   "execution_count": null,
   "id": "1c31abac",
   "metadata": {},
   "outputs": [],
   "source": [
    "#The graph represent as tree\n",
    "\n",
    "graph = {\n",
    "    'A' : ['B', 'C'],\n",
    "    'B' : ['D', 'E'],\n",
    "    'C' : ['F'],\n",
    "    'D' : [],\n",
    "    'E' : ['F'],\n",
    "    'F' : []\n",
    "}\n",
    "    "
   ]
  },
  {
   "cell_type": "code",
   "execution_count": 9,
   "id": "64898e52",
   "metadata": {},
   "outputs": [],
   "source": [
    "# visited to track the nodes\n",
    "visited = []\n",
    "\n",
    "# queue \n",
    "queue = []"
   ]
  },
  {
   "cell_type": "code",
   "execution_count": 10,
   "id": "6f22b11c",
   "metadata": {},
   "outputs": [],
   "source": [
    "# bfs algorithm\n",
    "def bfs(visited, graph, node):\n",
    "    \n",
    "# check and append the node\n",
    "  visited.append(node)\n",
    "  queue.append(node)\n",
    "\n",
    "# if node in queue, pop and print it.\n",
    "  while queue:\n",
    "    s = queue.pop(0) \n",
    "    print (s, end = \" \") \n",
    "\n",
    "    # Append nodes if neibor of node is unvisited \n",
    "    for n in graph[s]:\n",
    "      if n not in visited:\n",
    "        visited.append(n)\n",
    "        queue.append(n)"
   ]
  },
  {
   "cell_type": "code",
   "execution_count": 11,
   "id": "9e8399c6",
   "metadata": {},
   "outputs": [
    {
     "name": "stdout",
     "output_type": "stream",
     "text": [
      "A B C D E F "
     ]
    }
   ],
   "source": [
    "# run the code\n",
    "bfs(visited, graph, 'A')"
   ]
  }
 ],
 "metadata": {
  "kernelspec": {
   "display_name": "Python 3 (ipykernel)",
   "language": "python",
   "name": "python3"
  },
  "language_info": {
   "codemirror_mode": {
    "name": "ipython",
    "version": 3
   },
   "file_extension": ".py",
   "mimetype": "text/x-python",
   "name": "python",
   "nbconvert_exporter": "python",
   "pygments_lexer": "ipython3",
   "version": "3.9.10"
  }
 },
 "nbformat": 4,
 "nbformat_minor": 5
}
